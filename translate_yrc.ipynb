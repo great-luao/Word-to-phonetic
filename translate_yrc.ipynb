{
 "cells": [
  {
   "cell_type": "code",
   "execution_count": 4,
   "metadata": {},
   "outputs": [],
   "source": [
    "from translate import Translate\n",
    "import numpy as np \n",
    "import pandas as pd\n",
    "import os"
   ]
  },
  {
   "cell_type": "code",
   "execution_count": 7,
   "metadata": {},
   "outputs": [
    {
     "name": "stdout",
     "output_type": "stream",
     "text": [
      "[16343632, 1859245776, 3956911, 1958557540, 19292984, 1459232593, 108463, 1401671455, 1873321491, 30953009, 1356658022, 1838763739, 440208476]\n",
      "内容已保存到 yrc.txt 和 lrc.txt 文件中。\n"
     ]
    },
    {
     "name": "stderr",
     "output_type": "stream",
     "text": [
      "c:\\Users\\luao\\AppData\\Local\\Programs\\Python\\Python312\\Lib\\site-packages\\openpyxl\\styles\\stylesheet.py:241: UserWarning: Workbook contains no default style, apply openpyxl's default\n",
      "  warn(\"Workbook contains no default style, apply openpyxl's default\")\n"
     ]
    }
   ],
   "source": [
    "# Read the data from the music-rep2.xlsx\n",
    "\n",
    "# 读取 Excel 文件\n",
    "file_path = '../music-rep2.xlsx'\n",
    "df = pd.read_excel(file_path)\n",
    "\n",
    "# 获取 \"yrc\" 列并保存到 yrc.txt\n",
    "yrc_content = df['YRC歌词'].dropna().tolist()\n",
    "id_cotent = df['歌曲id'].dropna().tolist()\n",
    "assert(len(yrc_content) == len(id_cotent))\n",
    "print(id_cotent)\n",
    "for index in range(len(yrc_content)):\n",
    "    file_id = str(id_cotent[index]) + '.yrc.txt'\n",
    "    file_pos = os.path.join('../yrc', file_id)\n",
    "    with open(file_pos, 'w', encoding = 'utf-8') as yrc_file:\n",
    "        yrc_file.write(f\"{yrc_content[index]}\\n\")\n",
    "\n",
    "# 获取 \"lrc\" 列并保存到 lrc.txt\n",
    "# lrc_content = df['lrc'].dropna().tolist()\n",
    "# with open('/mnt/data/lrc.txt', 'w') as lrc_file:\n",
    "#     for item in lrc_content:\n",
    "#         lrc_file.write(f\"{item}\\n\")\n",
    "\n",
    "print(\"内容已保存到 yrc.txt 和 lrc.txt 文件中。\")"
   ]
  },
  {
   "cell_type": "code",
   "execution_count": 11,
   "metadata": {},
   "outputs": [
    {
     "name": "stdout",
     "output_type": "stream",
     "text": [
      "处理完成，中文翻译已写入输出文件。\n",
      "处理完成，音标已写入输出文件。\n",
      "处理完成，四六级信息已写入输出文件。\n"
     ]
    }
   ],
   "source": [
    "# 将时间截和音标写入输出文件\n",
    "# 输入和输出文件路径\n",
    "yrc_dir = \"../yrc/\"\n",
    "yrcy_dir = \"../yrcy/\"\n",
    "yrccn_dir = \"../yrccn/\"\n",
    "yrc46_dir = \"../yrc46/\"\n",
    "lrc_dir = \"../lrc/\"\n",
    "# load the dictionary from the file\n",
    "CET4_dict = np.load('CET4_dict.npy', allow_pickle=True).item()\n",
    "CET6_dict = np.load('CET6_dict.npy', allow_pickle=True).item()\n",
    "\n",
    "translate = Translate(yrc_dir, yrcy_dir, yrccn_dir, yrc46_dir, lrc_dir, CET4_dict, CET6_dict)\n",
    "# 处理音标文件\n",
    "translate.process_cn()\n",
    "translate.process_lyrics()\n",
    "translate.process_foursix()"
   ]
  }
 ],
 "metadata": {
  "kernelspec": {
   "display_name": "music",
   "language": "python",
   "name": "python3"
  },
  "language_info": {
   "codemirror_mode": {
    "name": "ipython",
    "version": 3
   },
   "file_extension": ".py",
   "mimetype": "text/x-python",
   "name": "python",
   "nbconvert_exporter": "python",
   "pygments_lexer": "ipython3",
   "version": "3.12.4"
  },
  "orig_nbformat": 4
 },
 "nbformat": 4,
 "nbformat_minor": 2
}
