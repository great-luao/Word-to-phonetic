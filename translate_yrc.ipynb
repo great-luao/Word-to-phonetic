{
 "cells": [
  {
   "cell_type": "code",
   "execution_count": 1,
   "metadata": {},
   "outputs": [],
   "source": [
    "%load_ext autoreload\n",
    "%autoreload 1\n",
    "%reload_ext autoreload\n",
    "import numpy as np \n",
    "import pandas as pd\n",
    "import os\n",
    "from translator import Translator\n",
    "from file_loader import FILE_LOADER"
   ]
  },
  {
   "cell_type": "code",
   "execution_count": 2,
   "metadata": {},
   "outputs": [
    {
     "name": "stdout",
     "output_type": "stream",
     "text": [
      "[16343632, 1859245776, 3956911, 1958557540, 19292984, 1459232593, 108463, 1401671455, 1873321491, 30953009, 1356658022, 1838763739, 440208476]\n"
     ]
    },
    {
     "name": "stderr",
     "output_type": "stream",
     "text": [
      "c:\\Users\\luao\\AppData\\Local\\Programs\\Python\\Python312\\Lib\\site-packages\\openpyxl\\styles\\stylesheet.py:241: UserWarning: Workbook contains no default style, apply openpyxl's default\n",
      "  warn(\"Workbook contains no default style, apply openpyxl's default\")\n"
     ]
    }
   ],
   "source": [
    "yrc_dir = \"../yrc/\"\n",
    "yrcy_dir = \"../yrcy/\"\n",
    "yrccn_dir = \"../yrccn/\"\n",
    "yrc46_dir = \"../yrc46/\"\n",
    "lrc_dir = \"../lrc/\"\n",
    "json_dir = \"../json/\"\n",
    "CET4_dict = np.load('CET4_dict.npy', allow_pickle=True).item()\n",
    "CET6_dict = np.load('CET6_dict.npy', allow_pickle=True).item()\n",
    "# 读取 Excel 文件\n",
    "file_path = '../music-rep2.xlsx'\n",
    "\n",
    "loader = FILE_LOADER(file_path, yrc_dir = yrc_dir, \n",
    "                     yrccn_dir= yrccn_dir, yrcy_dir= yrcy_dir, yrc46_dir = yrc46_dir, lrc_dir = '../temp_lrc', \n",
    "                     refresh=False, number=1)\n",
    "# loader.load_all_yrc()\n",
    "\n",
    "translate = Translator(yrc_dir, yrcy_dir, yrccn_dir, yrc46_dir, lrc_dir, CET4_dict, CET6_dict,\n",
    "                      test = True)"
   ]
  },
  {
   "cell_type": "code",
   "execution_count": 5,
   "metadata": {},
   "outputs": [
    {
     "name": "stdout",
     "output_type": "stream",
     "text": [
      "处理完成，中文翻译已写入输出文件。\n"
     ]
    }
   ],
   "source": [
    "# Read the data from the music-rep2.xlsx\n",
    "# 处理音标文件\n",
    "translate.process_cn()\n",
    "# translate.process_lyrics()\n",
    "# translate.process_foursix()\n",
    "\n",
    "# loader.output_final_explorer(output_dir=\"../final_dir\")\n",
    "# loader.output_all_json(json_dir=\"../temp_json\")\n",
    "# loader.output_single_json(target_id= 447925342, json_dir=\"../final_dir/447925342\")"
   ]
  },
  {
   "cell_type": "code",
   "execution_count": 4,
   "metadata": {},
   "outputs": [],
   "source": [
    "# loader.make_zip(\"../final_dir\")"
   ]
  }
 ],
 "metadata": {
  "kernelspec": {
   "display_name": "music",
   "language": "python",
   "name": "python3"
  },
  "language_info": {
   "codemirror_mode": {
    "name": "ipython",
    "version": 3
   },
   "file_extension": ".py",
   "mimetype": "text/x-python",
   "name": "python",
   "nbconvert_exporter": "python",
   "pygments_lexer": "ipython3",
   "version": "3.12.4"
  },
  "orig_nbformat": 4
 },
 "nbformat": 4,
 "nbformat_minor": 2
}
