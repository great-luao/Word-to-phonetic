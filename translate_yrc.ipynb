{
 "cells": [
  {
   "cell_type": "code",
   "execution_count": 3,
   "metadata": {},
   "outputs": [
    {
     "name": "stdout",
     "output_type": "stream",
     "text": [
      "The autoreload extension is already loaded. To reload it, use:\n",
      "  %reload_ext autoreload\n"
     ]
    }
   ],
   "source": [
    "%load_ext autoreload\n",
    "%autoreload 1\n",
    "%reload_ext autoreload\n",
    "import numpy as np \n",
    "import pandas as pd\n",
    "import os\n",
    "from translator import Translator\n",
    "from file_loader import FILE_LOADER"
   ]
  },
  {
   "cell_type": "code",
   "execution_count": 4,
   "metadata": {},
   "outputs": [
    {
     "name": "stdout",
     "output_type": "stream",
     "text": [
      "[1859245776, 447925342, 3956956, 16435049, 1846653916, 1492864083, 21274655, 437909145, 1986510161, 1971144922, 1401302504, 31719856, 4153366, 531777461, 29771146, 1891456146, 1955598800, 1313014216, 435278010, 1313033482, 1374787337, 1402830753, 3950882, 2117030, 28157586, 405564682, 1918969429, 511364880, 29378212, 2059790521, 1403150208, 567145750, 526929981, 1853242262, 1449268223, 3952752, 1468507874, 1848009877, 1932218190, 1845803534, 1906281210, 1864245483, 405372109, 1323439488, 1462804973, 1426052588, 17720122, 1356237274, 22673326, 1305774797, 1441145658, 1907999900, 4341278, 28571705, 515389440, 1462137071, 1859047912, 2923501, 18095081, 504686388, 1305762566, 1464389130, 2005760, 21234189, 1403081936, 1830190033, 29771432, 1697562, 1853788556, 1870111645, 478920958, 1332582424, 33933853, 1864084235, 1458435040, 3185884, 435413957, 435005006, 1470907912, 406347064, 1874411084, 17241403, 534545001, 1464242475, 1403449766, 29438295, 1901376779, 1487511754, 461811108, 401979, 528864711, 2059790317, 26145417, 3956979, 436487132, 1441158031, 1697753, 2059790595, 1406230561, 27836838]\n"
     ]
    }
   ],
   "source": [
    "yrc_dir = \"../yrc/\"\n",
    "yrcy_dir = \"../yrcy/\"\n",
    "yrccn_dir = \"../yrccn/\"\n",
    "yrc46_dir = \"../yrc46/\"\n",
    "lrc_dir = \"../lrc/\"\n",
    "json_dir = \"../json/\"\n",
    "CET4_dict = np.load('CET4_dict.npy', allow_pickle=True).item()\n",
    "CET6_dict = np.load('CET6_dict.npy', allow_pickle=True).item()\n",
    "# 读取 Excel 文件\n",
    "file_path = '../music-rep2_song_mv_1719377902949.xlsx'\n",
    "\n",
    "loader = FILE_LOADER(file_path, yrc_dir = yrc_dir, \n",
    "                     yrccn_dir= yrccn_dir, yrcy_dir= yrcy_dir, yrc46_dir = yrc46_dir, lrc_dir = '../temp_lrc', \n",
    "                     refresh=True, number=10)\n",
    "# loader.load_all_yrc()\n",
    "\n",
    "translate = Translator(yrc_dir, yrcy_dir, yrccn_dir, yrc46_dir, lrc_dir, CET4_dict, CET6_dict,\n",
    "                      test = True)"
   ]
  },
  {
   "cell_type": "code",
   "execution_count": 3,
   "metadata": {},
   "outputs": [
    {
     "name": "stdout",
     "output_type": "stream",
     "text": [
      "[1859245776, 447925342, 3956956, 16435049, 1846653916, 1492864083, 21274655, 437909145, 1986510161, 1971144922, 1401302504, 31719856, 4153366, 531777461, 29771146, 1891456146, 1955598800, 1313014216, 435278010, 1313033482, 1374787337, 1402830753, 3950882, 2117030, 28157586, 405564682, 1918969429, 511364880, 29378212, 2059790521, 1403150208, 567145750, 526929981, 1853242262, 1449268223, 3952752, 1468507874, 1848009877, 1932218190, 1845803534, 1906281210, 1864245483, 405372109, 1323439488, 1462804973, 1426052588, 17720122, 1356237274, 22673326, 1305774797, 1441145658, 1907999900, 4341278, 28571705, 515389440, 1462137071, 1859047912, 2923501, 18095081, 504686388, 1305762566, 1464389130, 2005760, 21234189, 1403081936, 1830190033, 29771432, 1697562, 1853788556, 1870111645, 478920958, 1332582424, 33933853, 1864084235, 1458435040, 3185884, 435413957, 435005006, 1470907912, 406347064, 1874411084, 17241403, 534545001, 1464242475, 1403449766, 29438295, 1901376779, 1487511754, 461811108, 401979, 528864711, 2059790317, 26145417, 3956979, 436487132, 1441158031, 1697753, 2059790595, 1406230561, 27836838]\n",
      "处理完成，中文翻译已写入输出文件。\n",
      "处理完成，音标已写入输出文件。\n",
      "处理完成，四六级信息已写入输出文件。\n",
      "1    Meant To Be\n",
      "Name: 歌曲名, dtype: object\n"
     ]
    }
   ],
   "source": [
    "# Read the data from the music-rep2.xlsx\n",
    "# 处理音标文件\n",
    "translate.process_cn()\n",
    "translate.process_lyrics()\n",
    "translate.process_foursix()\n",
    "\n",
    "# loader.output_final_explorer(output_dir=\"../final_dir\")\n",
    "# loader.output_single_json(target_id= 447925342, json_dir=\"../final_dir/447925342\")"
   ]
  },
  {
   "cell_type": "code",
   "execution_count": 5,
   "metadata": {},
   "outputs": [
    {
     "name": "stdout",
     "output_type": "stream",
     "text": [
      "文件夹已压缩为 Result.zip\n"
     ]
    }
   ],
   "source": [
    "loader.make_zip(\"../final_dir\")"
   ]
  }
 ],
 "metadata": {
  "kernelspec": {
   "display_name": "music",
   "language": "python",
   "name": "python3"
  },
  "language_info": {
   "codemirror_mode": {
    "name": "ipython",
    "version": 3
   },
   "file_extension": ".py",
   "mimetype": "text/x-python",
   "name": "python",
   "nbconvert_exporter": "python",
   "pygments_lexer": "ipython3",
   "version": "3.12.4"
  },
  "orig_nbformat": 4
 },
 "nbformat": 4,
 "nbformat_minor": 2
}
