{
 "cells": [
  {
   "cell_type": "code",
   "execution_count": 1,
   "metadata": {},
   "outputs": [],
   "source": [
    "%load_ext autoreload\n",
    "%autoreload 1\n",
    "%reload_ext autoreload\n",
    "import numpy as np \n",
    "import pandas as pd\n",
    "import os\n",
    "from translator import Translator\n",
    "from file_loader import FILE_LOADER"
   ]
  },
  {
   "cell_type": "code",
   "execution_count": 2,
   "metadata": {},
   "outputs": [
    {
     "name": "stdout",
     "output_type": "stream",
     "text": [
      "内容已保存到16343632 yrc.txt 文件中。\n",
      "内容已保存到1859245776 yrc.txt 文件中。\n",
      "内容已保存到3956911 yrc.txt 文件中。\n",
      "内容已保存到1958557540 yrc.txt 文件中。\n",
      "内容已保存到19292984 yrc.txt 文件中。\n",
      "歌曲1459232593的歌词中含有过多中文，已自动过滤。\n",
      "歌曲108463的歌词中含有过多中文，已自动过滤。\n",
      "内容已保存到1401671455 yrc.txt 文件中。\n",
      "内容已保存到1873321491 yrc.txt 文件中。\n",
      "内容已保存到30953009 yrc.txt 文件中。\n",
      "内容已保存到1356658022 yrc.txt 文件中。\n",
      "歌曲1838763739的歌词中含有过多中文，已自动过滤。\n",
      "内容已保存到440208476 yrc.txt 文件中。\n",
      "内容已保存到 yrc.txt 文件中。\n"
     ]
    },
    {
     "name": "stderr",
     "output_type": "stream",
     "text": [
      "c:\\Users\\luao\\AppData\\Local\\Programs\\Python\\Python312\\Lib\\site-packages\\openpyxl\\styles\\stylesheet.py:241: UserWarning: Workbook contains no default style, apply openpyxl's default\n",
      "  warn(\"Workbook contains no default style, apply openpyxl's default\")\n",
      "c:\\Users\\luao\\AppData\\Local\\Programs\\Python\\Python312\\Lib\\site-packages\\openpyxl\\styles\\stylesheet.py:241: UserWarning: Workbook contains no default style, apply openpyxl's default\n",
      "  warn(\"Workbook contains no default style, apply openpyxl's default\")\n",
      "c:\\Users\\luao\\AppData\\Local\\Programs\\Python\\Python312\\Lib\\site-packages\\openpyxl\\styles\\stylesheet.py:241: UserWarning: Workbook contains no default style, apply openpyxl's default\n",
      "  warn(\"Workbook contains no default style, apply openpyxl's default\")\n",
      "c:\\Users\\luao\\AppData\\Local\\Programs\\Python\\Python312\\Lib\\site-packages\\openpyxl\\styles\\stylesheet.py:241: UserWarning: Workbook contains no default style, apply openpyxl's default\n",
      "  warn(\"Workbook contains no default style, apply openpyxl's default\")\n",
      "c:\\Users\\luao\\AppData\\Local\\Programs\\Python\\Python312\\Lib\\site-packages\\openpyxl\\styles\\stylesheet.py:241: UserWarning: Workbook contains no default style, apply openpyxl's default\n",
      "  warn(\"Workbook contains no default style, apply openpyxl's default\")\n",
      "c:\\Users\\luao\\AppData\\Local\\Programs\\Python\\Python312\\Lib\\site-packages\\openpyxl\\styles\\stylesheet.py:241: UserWarning: Workbook contains no default style, apply openpyxl's default\n",
      "  warn(\"Workbook contains no default style, apply openpyxl's default\")\n",
      "c:\\Users\\luao\\AppData\\Local\\Programs\\Python\\Python312\\Lib\\site-packages\\openpyxl\\styles\\stylesheet.py:241: UserWarning: Workbook contains no default style, apply openpyxl's default\n",
      "  warn(\"Workbook contains no default style, apply openpyxl's default\")\n",
      "c:\\Users\\luao\\AppData\\Local\\Programs\\Python\\Python312\\Lib\\site-packages\\openpyxl\\styles\\stylesheet.py:241: UserWarning: Workbook contains no default style, apply openpyxl's default\n",
      "  warn(\"Workbook contains no default style, apply openpyxl's default\")\n",
      "c:\\Users\\luao\\AppData\\Local\\Programs\\Python\\Python312\\Lib\\site-packages\\openpyxl\\styles\\stylesheet.py:241: UserWarning: Workbook contains no default style, apply openpyxl's default\n",
      "  warn(\"Workbook contains no default style, apply openpyxl's default\")\n",
      "c:\\Users\\luao\\AppData\\Local\\Programs\\Python\\Python312\\Lib\\site-packages\\openpyxl\\styles\\stylesheet.py:241: UserWarning: Workbook contains no default style, apply openpyxl's default\n",
      "  warn(\"Workbook contains no default style, apply openpyxl's default\")\n",
      "c:\\Users\\luao\\AppData\\Local\\Programs\\Python\\Python312\\Lib\\site-packages\\openpyxl\\styles\\stylesheet.py:241: UserWarning: Workbook contains no default style, apply openpyxl's default\n",
      "  warn(\"Workbook contains no default style, apply openpyxl's default\")\n",
      "c:\\Users\\luao\\AppData\\Local\\Programs\\Python\\Python312\\Lib\\site-packages\\openpyxl\\styles\\stylesheet.py:241: UserWarning: Workbook contains no default style, apply openpyxl's default\n",
      "  warn(\"Workbook contains no default style, apply openpyxl's default\")\n",
      "c:\\Users\\luao\\AppData\\Local\\Programs\\Python\\Python312\\Lib\\site-packages\\openpyxl\\styles\\stylesheet.py:241: UserWarning: Workbook contains no default style, apply openpyxl's default\n",
      "  warn(\"Workbook contains no default style, apply openpyxl's default\")\n",
      "c:\\Users\\luao\\AppData\\Local\\Programs\\Python\\Python312\\Lib\\site-packages\\openpyxl\\styles\\stylesheet.py:241: UserWarning: Workbook contains no default style, apply openpyxl's default\n",
      "  warn(\"Workbook contains no default style, apply openpyxl's default\")\n"
     ]
    }
   ],
   "source": [
    "# Read the data from the music-rep2.xlsx\n",
    "\n",
    "# 读取 Excel 文件\n",
    "file_path = '../music-rep2.xlsx'\n",
    "\n",
    "loader = FILE_LOADER(file_path, yrc_dir = '../temp_yrc', lrc_dir = '../temp_lrc', refresh=True)\n",
    "loader.load_all_yrc()"
   ]
  },
  {
   "cell_type": "code",
   "execution_count": 3,
   "metadata": {},
   "outputs": [],
   "source": [
    "# # 将时间截和音标写入输出文件\n",
    "# # 输入和输出文件路径\n",
    "# yrc_dir = \"../yrc/\"\n",
    "# yrcy_dir = \"../yrcy/\"\n",
    "# yrccn_dir = \"../yrccn/\"\n",
    "# yrc46_dir = \"../yrc46/\"\n",
    "# lrc_dir = \"../lrc/\"\n",
    "# # load the dictionary from the file\n",
    "# CET4_dict = np.load('CET4_dict.npy', allow_pickle=True).item()\n",
    "# CET6_dict = np.load('CET6_dict.npy', allow_pickle=True).item()\n",
    "\n",
    "# translate = Translate(yrc_dir, yrcy_dir, yrccn_dir, yrc46_dir, lrc_dir, CET4_dict, CET6_dict,\n",
    "#                       test = True)\n",
    "# # 处理音标文件\n",
    "# translate.process_cn()\n",
    "# # translate.process_lyrics()\n",
    "# # translate.process_foursix()"
   ]
  }
 ],
 "metadata": {
  "kernelspec": {
   "display_name": "music",
   "language": "python",
   "name": "python3"
  },
  "language_info": {
   "codemirror_mode": {
    "name": "ipython",
    "version": 3
   },
   "file_extension": ".py",
   "mimetype": "text/x-python",
   "name": "python",
   "nbconvert_exporter": "python",
   "pygments_lexer": "ipython3",
   "version": "3.12.4"
  },
  "orig_nbformat": 4
 },
 "nbformat": 4,
 "nbformat_minor": 2
}
