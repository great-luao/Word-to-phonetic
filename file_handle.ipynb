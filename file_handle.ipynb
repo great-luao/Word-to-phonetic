{
 "cells": [
  {
   "cell_type": "code",
   "execution_count": 1,
   "metadata": {},
   "outputs": [],
   "source": [
    "import re\n",
    "import numpy as np"
   ]
  },
  {
   "cell_type": "code",
   "execution_count": 2,
   "metadata": {},
   "outputs": [],
   "source": [
    "# remove the space in a certain file\n",
    "def remove_space(file):\n",
    "    with open(file, 'r') as f:\n",
    "        lines = f.readlines()\n",
    "    with open(file, 'w') as f:\n",
    "            for line in lines:\n",
    "                line = line.replace(' ', '')\n",
    "                f.write(line)\n",
    "    \n",
    "remove_space('../yrcy/temp/3956956.yrcy.txt')"
   ]
  },
  {
   "cell_type": "code",
   "execution_count": null,
   "metadata": {},
   "outputs": [],
   "source": [
    "# Rewrite the CET4 file, if the line is not about a word, delete it.\n",
    "with open('CET4.txt', 'r', encoding='utf-8') as f:\n",
    "    lines = f.readlines()\n",
    "    with open('CET4_edited.txt', 'w', encoding='utf-8') as f:\n",
    "        for line in lines:\n",
    "            # Find the first english word in the line\n",
    "            word = re.search(r'[a-zA-Z]+', line)\n",
    "            print(word)\n",
    "            if word and word.span()[1] > 1:\n",
    "                f.write(line)"
   ]
  },
  {
   "cell_type": "code",
   "execution_count": 16,
   "metadata": {},
   "outputs": [],
   "source": [
    "# Make CET4_edited.txt and CET6_edited into a dictionary\n",
    "\n",
    "def make_dict(file):\n",
    "    with open(file, 'r', encoding='utf-8') as f:\n",
    "        lines = f.readlines()\n",
    "        word_dict = {}\n",
    "        for line in lines:\n",
    "            # Make word the key\n",
    "            word = re.findall(r'[a-zA-Z]+', line)\n",
    "            # Make the res part as an array, \n",
    "            # where the phonetic symbol is the first element, and the meanings are the element after it\n",
    "            # ignore the symbol such as ;, etc.\n",
    "            res = re.split(r'[\\s;]', line)\n",
    "            res = [x for x in res if x][1:]\n",
    "            # print(res)\n",
    "            word_dict[word[0]] = res\n",
    "        return word_dict\n",
    "\n",
    "# Make the dict\n",
    "CET4_dict = make_dict('CET4_edited.txt')\n",
    "CET6_dict = make_dict('CET6_edited.txt')\n",
    "\n",
    "# Store the dict in npy file\n",
    "np.save('CET4_dict.npy', CET4_dict)\n",
    "np.save('CET6_dict.npy', CET6_dict)"
   ]
  }
 ],
 "metadata": {
  "kernelspec": {
   "display_name": "Python 3",
   "language": "python",
   "name": "python3"
  },
  "language_info": {
   "codemirror_mode": {
    "name": "ipython",
    "version": 3
   },
   "file_extension": ".py",
   "mimetype": "text/x-python",
   "name": "python",
   "nbconvert_exporter": "python",
   "pygments_lexer": "ipython3",
   "version": "3.12.4"
  }
 },
 "nbformat": 4,
 "nbformat_minor": 2
}
