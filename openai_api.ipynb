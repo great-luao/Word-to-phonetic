{
 "cells": [
  {
   "cell_type": "code",
   "execution_count": 2,
   "metadata": {},
   "outputs": [],
   "source": [
    "import requests\n",
    "import json\n",
    "from openai import OpenAI\n",
    "import os"
   ]
  },
  {
   "cell_type": "code",
   "execution_count": 8,
   "metadata": {},
   "outputs": [
    {
     "name": "stdout",
     "output_type": "stream",
     "text": [
      "[{'role': 'system', 'content': '你是一个智能翻译机，我会给你一句英文歌词, 然后我会要求你翻译其中某一个单词的意思，你要联系句子直接告诉我这个单词对应的简短的中文。'}, {'role': 'user', 'content': \"I'm a new soul, I'm\"}, {'role': 'assistant', 'content': '我是'}, {'role': 'user', 'content': \"I'm a new soul, a \"}]\n",
      "ChatGPT: 新灵魂\n",
      "[{'role': 'system', 'content': '你是一个智能翻译机，我会给你一句英文歌词, 然后我会要求你翻译其中某一个单词的意思，你要联系句子直接告诉我这个单词对应的简短的中文。'}, {'role': 'user', 'content': \"I'm a new soul, I'm\"}, {'role': 'assistant', 'content': '我是'}, {'role': 'user', 'content': \"I'm a new soul, a \"}, {'role': 'assistant', 'content': '新灵魂'}, {'role': 'user', 'content': \"I'm a new soul, new\"}]\n",
      "ChatGPT: 新\n",
      "[{'role': 'system', 'content': '你是一个智能翻译机，我会给你一句英文歌词, 然后我会要求你翻译其中某一个单词的意思，你要联系句子直接告诉我这个单词对应的简短的中文。'}, {'role': 'user', 'content': \"I'm a new soul, I'm\"}, {'role': 'assistant', 'content': '我是'}, {'role': 'user', 'content': \"I'm a new soul, a \"}, {'role': 'assistant', 'content': '新灵魂'}, {'role': 'user', 'content': \"I'm a new soul, new\"}, {'role': 'assistant', 'content': '新'}, {'role': 'user', 'content': \"I'm a new soul, soul\"}]\n",
      "ChatGPT: 灵魂\n",
      "[{'role': 'system', 'content': '你是一个智能翻译机，我会给你一句英文歌词, 然后我会要求你翻译其中某一个单词的意思，你要联系句子直接告诉我这个单词对应的简短的中文。'}, {'role': 'user', 'content': \"I'm a new soul, I'm\"}, {'role': 'assistant', 'content': '我是'}, {'role': 'user', 'content': \"I'm a new soul, a \"}, {'role': 'assistant', 'content': '新灵魂'}, {'role': 'user', 'content': \"I'm a new soul, new\"}, {'role': 'assistant', 'content': '新'}, {'role': 'user', 'content': \"I'm a new soul, soul\"}, {'role': 'assistant', 'content': '灵魂'}, {'role': 'user', 'content': \"I'm a new soul, soul\"}]\n",
      "ChatGPT: 灵魂\n",
      "[{'role': 'system', 'content': '你是一个智能翻译机，我会给你一句英文歌词, 然后我会要求你翻译其中某一个单词的意思，你要联系句子直接告诉我这个单词对应的简短的中文。'}, {'role': 'user', 'content': \"I'm a new soul, I'm\"}, {'role': 'assistant', 'content': '我是'}, {'role': 'user', 'content': \"I'm a new soul, a \"}, {'role': 'assistant', 'content': '新灵魂'}, {'role': 'user', 'content': \"I'm a new soul, new\"}, {'role': 'assistant', 'content': '新'}, {'role': 'user', 'content': \"I'm a new soul, soul\"}, {'role': 'assistant', 'content': '灵魂'}, {'role': 'user', 'content': \"I'm a new soul, soul\"}, {'role': 'assistant', 'content': '灵魂'}, {'role': 'user', 'content': 'What do you want from me, what'}]\n",
      "ChatGPT: 什么\n",
      "[{'role': 'system', 'content': '你是一个智能翻译机，我会给你一句英文歌词, 然后我会要求你翻译其中某一个单词的意思，你要联系句子直接告诉我这个单词对应的简短的中文。'}, {'role': 'user', 'content': \"I'm a new soul, I'm\"}, {'role': 'assistant', 'content': '我是'}, {'role': 'user', 'content': \"I'm a new soul, a \"}, {'role': 'assistant', 'content': '新灵魂'}, {'role': 'user', 'content': \"I'm a new soul, new\"}, {'role': 'assistant', 'content': '新'}, {'role': 'user', 'content': \"I'm a new soul, soul\"}, {'role': 'assistant', 'content': '灵魂'}, {'role': 'user', 'content': \"I'm a new soul, soul\"}, {'role': 'assistant', 'content': '灵魂'}, {'role': 'user', 'content': 'What do you want from me, what'}, {'role': 'assistant', 'content': '什么'}, {'role': 'user', 'content': 'What do you want from me, do'}]\n",
      "ChatGPT: 要\n",
      "[{'role': 'system', 'content': '你是一个智能翻译机，我会给你一句英文歌词, 然后我会要求你翻译其中某一个单词的意思，你要联系句子直接告诉我这个单词对应的简短的中文。'}, {'role': 'user', 'content': \"I'm a new soul, I'm\"}, {'role': 'assistant', 'content': '我是'}, {'role': 'user', 'content': \"I'm a new soul, a \"}, {'role': 'assistant', 'content': '新灵魂'}, {'role': 'user', 'content': \"I'm a new soul, new\"}, {'role': 'assistant', 'content': '新'}, {'role': 'user', 'content': \"I'm a new soul, soul\"}, {'role': 'assistant', 'content': '灵魂'}, {'role': 'user', 'content': \"I'm a new soul, soul\"}, {'role': 'assistant', 'content': '灵魂'}, {'role': 'user', 'content': 'What do you want from me, what'}, {'role': 'assistant', 'content': '什么'}, {'role': 'user', 'content': 'What do you want from me, do'}, {'role': 'assistant', 'content': '要'}, {'role': 'user', 'content': 'What do you want from me, want'}]\n",
      "ChatGPT: 想要\n",
      "[{'role': 'system', 'content': '你是一个智能翻译机，我会给你一句英文歌词, 然后我会要求你翻译其中某一个单词的意思，你要联系句子直接告诉我这个单词对应的简短的中文。'}, {'role': 'user', 'content': \"I'm a new soul, I'm\"}, {'role': 'assistant', 'content': '我是'}, {'role': 'user', 'content': \"I'm a new soul, a \"}, {'role': 'assistant', 'content': '新灵魂'}, {'role': 'user', 'content': \"I'm a new soul, new\"}, {'role': 'assistant', 'content': '新'}, {'role': 'user', 'content': \"I'm a new soul, soul\"}, {'role': 'assistant', 'content': '灵魂'}, {'role': 'user', 'content': \"I'm a new soul, soul\"}, {'role': 'assistant', 'content': '灵魂'}, {'role': 'user', 'content': 'What do you want from me, what'}, {'role': 'assistant', 'content': '什么'}, {'role': 'user', 'content': 'What do you want from me, do'}, {'role': 'assistant', 'content': '要'}, {'role': 'user', 'content': 'What do you want from me, want'}, {'role': 'assistant', 'content': '想要'}, {'role': 'user', 'content': 'What do you want from me, from'}]\n",
      "ChatGPT: 从\n"
     ]
    }
   ],
   "source": [
    "# 定义 API 的 URL\n",
    "\n",
    "client = OpenAI(\n",
    "    # This is the default and can be omitted\n",
    "    api_key= 'sk-proj-isch1H7MjMpMmXVaBbb4T3BlbkFJlJSewogYekH8r2DGidH6'\n",
    ")\n",
    "\n",
    "messages = [ {\"role\": \"system\", \"content\":  \n",
    "              \"你是一个智能翻译机，我会给你一句英文歌词, 然后我会给你其中某一个单词，你要直接告诉我这个单词对应的简短的中文。\"},\n",
    "               {\"role\": \"user\", \"content\": \"例如我输入Im a new soul, Im, 你要直接回答我它的翻译：我是\" },\n",
    "               {\"role\": \"assistant\", \"content\": \"好的\" },\n",
    "               {\"role\": \"user\", \"content\": \"Im a new soul, a\" },\n",
    "               {\"role\": \"assistant\", \"content\": \"一个\" }]\n",
    " \n",
    "\n",
    "\n",
    "while True: \n",
    "    cotent = input() \n",
    "    if cotent: \n",
    "        messages.append({\"role\": \"user\", \"content\": cotent})\n",
    "        print(messages)\n",
    "        chat = client.chat.completions.create( \n",
    "            model=\"gpt-3.5-turbo-1106\", messages=messages \n",
    "        )\n",
    "    else:\n",
    "        break \n",
    "    reply = chat.choices[0].message.content \n",
    "    print(f\"ChatGPT: {reply}\") \n",
    "    messages.append({\"role\": \"assistant\", \"content\": reply}) "
   ]
  }
 ],
 "metadata": {
  "kernelspec": {
   "display_name": "Python 3",
   "language": "python",
   "name": "python3"
  },
  "language_info": {
   "codemirror_mode": {
    "name": "ipython",
    "version": 3
   },
   "file_extension": ".py",
   "mimetype": "text/x-python",
   "name": "python",
   "nbconvert_exporter": "python",
   "pygments_lexer": "ipython3",
   "version": "3.12.4"
  }
 },
 "nbformat": 4,
 "nbformat_minor": 2
}
