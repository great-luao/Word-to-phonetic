{
 "cells": [
  {
   "cell_type": "code",
   "execution_count": 1,
   "metadata": {},
   "outputs": [],
   "source": [
    "import eng_to_ipa as ipa\n",
    "import re\n",
    "import glob\n",
    "import os\n",
    "import numpy as np\n",
    "from deep_translator import GoogleTranslator"
   ]
  },
  {
   "cell_type": "code",
   "execution_count": 2,
   "metadata": {},
   "outputs": [],
   "source": [
    "def list_txt_files(directory):\n",
    "    # 生成指定目录及其子目录下所有.txt文件的路径列表\n",
    "    txt_files = glob.glob(os.path.join(directory, '**', '*.txt'), recursive=True)\n",
    "    return txt_files\n",
    "\n",
    "def convert_word_to_phoneme(word):\n",
    "    # we use ipa now instead of pronouncing\n",
    "    # phonemes = ipa.ipa_list(word)\n",
    "    phonemes = ipa.convert(word)\n",
    "    if phonemes:\n",
    "        return phonemes\n",
    "        # return ' '.join(phonemes[0])  # the output is a 2-d list.\n",
    "    return word  \n",
    "\n",
    "def convert_word_to_46(word, CET4_dict, CET6_dict):\n",
    "    # If the word exits in the CET4_dict or CET6_dict, mark it as '4', '6'\n",
    "    # Otherwise, return '0'\n",
    "    # print(word)\n",
    "    if word in CET4_dict:\n",
    "        return '4'\n",
    "    elif word in CET6_dict:\n",
    "        return '6'\n",
    "    return '-'\n",
    "\n",
    "def get_song_phoneme(input_file):\n",
    "    # Handle the file\n",
    "    song:str = ''\n",
    "    with open(input_file, 'r') as infile:\n",
    "        phoneme_list = []\n",
    "        for line in infile:\n",
    "            # find and split parts as [], () and words\n",
    "            parts = re.findall(r'\\[.*?\\]|\\(.*?\\)|\\w+|[^\\s\\w]', line)\n",
    "            for part in parts:\n",
    "                if re.match (r'\\w+', part): # 单词部分\n",
    "                    song += part + ' '\n",
    "    phoneme_list = ipa.convert(song)\n",
    "    return phoneme_list\n",
    "\n",
    "def process_lyrics(input_file, output_file):\n",
    "    # Handle the file\n",
    "    with open(input_file, 'r') as infile, open(output_file, 'w', encoding = 'utf-8') as yrcy:\n",
    "        for line in infile:\n",
    "            # find and split parts as [], () and words\n",
    "            parts = re.findall(r'\\[.*?\\]|\\(.*?\\)|\\w+|[^\\s\\w]', line)\n",
    "            for part in parts:\n",
    "                if not re.match (r'\\w+', part): # 单词部分\n",
    "                    yrcy.write(part)\n",
    "                else:\n",
    "                    phoneme = convert_word_to_phoneme(part)\n",
    "                    yrcy.write(phoneme)\n",
    "            yrcy.write('\\n')\n",
    "    print(\"处理完成，音标已写入输出文件。\")\n",
    "\n",
    "def process_foursix(input_file, output_file):\n",
    "    # Load the CET4 and CET6 dictionaries\n",
    "    CET4_dict = np.load('CET4_dict.npy', allow_pickle=True).item()\n",
    "    CET6_dict = np.load('CET6_dict.npy', allow_pickle=True).item()\n",
    "    # Handle the file\n",
    "    with open(input_file, 'r') as infile, open(output_file, 'w', encoding = 'utf-8') as yrcf:\n",
    "        for line in infile:\n",
    "            # find and split parts as [], () and words\n",
    "            parts = re.findall(r'\\[.*?\\]|\\(.*?\\)|\\w+|[^\\s\\w]', line)\n",
    "            for part in parts:\n",
    "                if not re.match (r'\\w+', part): # 单词部分\n",
    "                    yrcf.write(part)\n",
    "                else:\n",
    "                    four_six = convert_word_to_46(part, CET4_dict, CET6_dict)\n",
    "                    yrcf.write(four_six)\n",
    "            yrcf.write('\\n')\n",
    "    print(\"处理完成，四六级信息已写入输出文件。\")\n",
    "\n",
    "def process_cn(input_file, output_file):\n",
    "    # Use any translator to get the translated string\n",
    "    translated = GoogleTranslator(source='auto', target='zh-CN').translate_file('yrc/3852042.yrc.txt')\n",
    "    # Write the srting into the output file\n",
    "    # Remove all spaces\n",
    "    translated = translated.replace(' ', '')\n",
    "    with open(output_file, 'w', encoding = 'utf-8') as yrccn:\n",
    "        yrccn.write(translated)\n",
    "    print(\"处理完成，中文翻译已写入输出文件。\")\n"
   ]
  },
  {
   "cell_type": "code",
   "execution_count": 3,
   "metadata": {},
   "outputs": [
    {
     "name": "stdout",
     "output_type": "stream",
     "text": [
      "处理完成，中文翻译已写入输出文件。\n"
     ]
    }
   ],
   "source": [
    "# 将时间截和音标写入输出文件\n",
    "# 输入和输出文件路径\n",
    "input_file = 'yrc/3852042.yrc.txt'\n",
    "phoneme_file = 'output_phonemes.txt'\n",
    "four_six_file = 'output_four_six.txt'\n",
    "cn_file = 'output_cn.txt'\n",
    "\n",
    "# 处理音标文件\n",
    "# phoneme_list = get_song_phoneme(input_file)\n",
    "# process_lyrics(input_file, phoneme_file)\n",
    "# process_foursix(input_file, four_six_file)\n",
    "process_cn(input_file, cn_file)\n"
   ]
  }
 ],
 "metadata": {
  "kernelspec": {
   "display_name": "music",
   "language": "python",
   "name": "python3"
  },
  "language_info": {
   "codemirror_mode": {
    "name": "ipython",
    "version": 3
   },
   "file_extension": ".py",
   "mimetype": "text/x-python",
   "name": "python",
   "nbconvert_exporter": "python",
   "pygments_lexer": "ipython3",
   "version": "3.12.4"
  },
  "orig_nbformat": 4
 },
 "nbformat": 4,
 "nbformat_minor": 2
}
