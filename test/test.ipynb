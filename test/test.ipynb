{
 "cells": [
  {
   "cell_type": "code",
   "execution_count": 4,
   "metadata": {},
   "outputs": [],
   "source": [
    "import pronouncing\n",
    "import eng_to_ipa as ipa"
   ]
  },
  {
   "cell_type": "code",
   "execution_count": 5,
   "metadata": {},
   "outputs": [
    {
     "name": "stdout",
     "output_type": "stream",
     "text": [
      "处理完成，音标已写入输出文件。\n"
     ]
    }
   ],
   "source": [
    "def convert_word_to_phoneme(word):\n",
    "    # 使用 pronouncing 库将单词转换为音标\n",
    "    # phonemes = pronouncing.phones_for_word(word)\n",
    "    phonemes = ipa.ipa_list(word)\n",
    "    if phonemes:\n",
    "        return phonemes[0]  # the output is a 2-d list.\n",
    "    return word  \n",
    "\n",
    "def process_lyrics(input_file, output_file):\n",
    "    with open(input_file, 'r') as infile, open(output_file, 'w') as outfile:\n",
    "        for line in infile:\n",
    "            parts = line.strip().split()\n",
    "            if len(parts) < 2:\n",
    "                continue  # 跳过空行或格式不正确的行\n",
    "            \n",
    "            timestamp = parts[0]  # 时间截\n",
    "            word = parts[1]  # 单词\n",
    "            phoneme = convert_word_to_phoneme(word)  # 转换为音标\n",
    "            \n",
    "            # 将时间截和音标写入输出文件\n",
    "            outfile.write(f\"{timestamp} {phoneme}\\n\")\n",
    "\n",
    "# 输入和输出文件路径\n",
    "input_file = 'input_lyrics.txt'\n",
    "output_file = 'output_phonemes.txt'\n",
    "\n",
    "# 处理歌词文件\n",
    "process_lyrics(input_file, output_file)\n",
    "\n",
    "print(\"处理完成，音标已写入输出文件。\")"
   ]
  }
 ],
 "metadata": {
  "kernelspec": {
   "display_name": "music",
   "language": "python",
   "name": "python3"
  },
  "language_info": {
   "codemirror_mode": {
    "name": "ipython",
    "version": 3
   },
   "file_extension": ".py",
   "mimetype": "text/x-python",
   "name": "python",
   "nbconvert_exporter": "python",
   "pygments_lexer": "ipython3",
   "version": "3.8.19"
  },
  "orig_nbformat": 4
 },
 "nbformat": 4,
 "nbformat_minor": 2
}
