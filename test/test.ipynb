{
 "cells": [
  {
   "cell_type": "code",
   "execution_count": 7,
   "metadata": {},
   "outputs": [],
   "source": [
    "import pronouncing\n",
    "import eng_to_ipa as ipa\n",
    "import re"
   ]
  },
  {
   "cell_type": "code",
   "execution_count": 10,
   "metadata": {},
   "outputs": [
    {
     "name": "stdout",
     "output_type": "stream",
     "text": [
      "处理完成，音标已写入输出文件。\n"
     ]
    }
   ],
   "source": [
    "def convert_word_to_phoneme(word):\n",
    "    # 使用 pronouncing 库将单词转换为音标\n",
    "    # phonemes = pronouncing.phones_for_word(word)\n",
    "    # we use ipa now instead of pronouncing\n",
    "    phonemes = ipa.ipa_list(word)\n",
    "    if phonemes:\n",
    "        return ' '.join(phonemes[0])  # the output is a 2-d list.\n",
    "    return word  \n",
    "\n",
    "def process_lyrics(input_file, output_file):\n",
    "    with open(input_file, 'r') as infile, open(output_file, 'w') as outfile:\n",
    "       for line in infile:\n",
    "            parts = re.findall(r'\\[.*?\\]|\\w+|[^\\s\\w]', line)\n",
    "            for part in parts:\n",
    "                if re.match(r'\\[.*?\\]', part):  # 时间截部分\n",
    "                    outfile.write(part)\n",
    "                elif re.match(r'\\w+', part):  # 单词部分\n",
    "                    phoneme = convert_word_to_phoneme(part)\n",
    "                    outfile.write(phoneme)\n",
    "                else:  # 符号部分\n",
    "                    outfile.write(part)\n",
    "            outfile.write(\"\\n\")\n",
    "                    \n",
    "# 将时间截和音标写入输出文件\n",
    "# 输入和输出文件路径\n",
    "input_file = '3852042.yrc.txt'\n",
    "output_file = 'output_phonemes.txt'\n",
    "\n",
    "# 处理歌词文件\n",
    "process_lyrics(input_file, output_file)\n",
    "\n",
    "print(\"处理完成，音标已写入输出文件。\")"
   ]
  }
 ],
 "metadata": {
  "kernelspec": {
   "display_name": "music",
   "language": "python",
   "name": "python3"
  },
  "language_info": {
   "codemirror_mode": {
    "name": "ipython",
    "version": 3
   },
   "file_extension": ".py",
   "mimetype": "text/x-python",
   "name": "python",
   "nbconvert_exporter": "python",
   "pygments_lexer": "ipython3",
   "version": "3.12.3"
  },
  "orig_nbformat": 4
 },
 "nbformat": 4,
 "nbformat_minor": 2
}
